{
 "cells": [
  {
   "cell_type": "markdown",
   "metadata": {},
   "source": [
    "# Data for Choosing Location and Cuisine in California City\n",
    "\n",
    "## Business Problem\n",
    "\n",
    "Suppose there is a VC firm which is looking into opening a new restaurant in California City, CA. They have applications from chefs in their hands.\n",
    "\n",
    "They are willing to open only one restaurant right now.They need to figure out the cuisine and location for minimum competition in order to maximize profit.\n",
    "\n",
    "[According to california.com](https://www.california.com/most-popular-ethnic-cuisines-california/) , the top five cuisines Californians are interested in are-\n",
    "\n",
    "* Mexican\n",
    "* Chinese\n",
    "* Thai\n",
    "* Italian\n",
    "* Japanese\n",
    "\n",
    "They need to choose one of these cuisines, and the county to open the restaurant.\n",
    "\n",
    "The problem is figuring out which cuisine in which county will face the least competition and profits can be maximized."
   ]
  }
 ],
 "metadata": {
  "kernelspec": {
   "display_name": "Python 3",
   "language": "python",
   "name": "python3"
  },
  "language_info": {
   "codemirror_mode": {
    "name": "ipython",
    "version": 3
   },
   "file_extension": ".py",
   "mimetype": "text/x-python",
   "name": "python",
   "nbconvert_exporter": "python",
   "pygments_lexer": "ipython3",
   "version": "3.7.6"
  }
 },
 "nbformat": 4,
 "nbformat_minor": 4
}
