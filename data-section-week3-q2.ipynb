{
 "cells": [
  {
   "cell_type": "markdown",
   "metadata": {},
   "source": [
    "## Data Sources\n",
    "\n",
    "For solving this problem, data from two sources will be leveraged-\n",
    "\n",
    "1. Location data titled [*California Counties*][1] provided in [**California Open Data Portal**][2] provided by **Government of California** for the geographical location data.\n",
    "2. The [Foursquare][3] API for information about established restaurants and other relevant detailed information about the same.\n",
    "\n",
    "With the data collected from these sources, analysis will be carried out for solving the business problem.\n",
    "\n",
    "\n",
    "\n",
    "[1]: https://data.ca.gov/dataset/california-counties/resource/8302d20a-3bab-4687-9a32-b2c84b6ee603\n",
    "[2]: https://data.ca.gov/\n",
    "[3]: https://foursquare.com/"
   ]
  }
 ],
 "metadata": {
  "kernelspec": {
   "display_name": "Python 3",
   "language": "python",
   "name": "python3"
  },
  "language_info": {
   "codemirror_mode": {
    "name": "ipython",
    "version": 3
   },
   "file_extension": ".py",
   "mimetype": "text/x-python",
   "name": "python",
   "nbconvert_exporter": "python",
   "pygments_lexer": "ipython3",
   "version": "3.7.6"
  }
 },
 "nbformat": 4,
 "nbformat_minor": 4
}
